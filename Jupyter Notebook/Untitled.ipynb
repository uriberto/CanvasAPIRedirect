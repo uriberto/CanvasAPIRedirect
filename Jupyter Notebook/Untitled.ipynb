{
 "cells": [
  {
   "cell_type": "code",
   "execution_count": 2,
   "metadata": {},
   "outputs": [],
   "source": [
    "from canvasapi import Canvas"
   ]
  },
  {
   "cell_type": "code",
   "execution_count": 3,
   "metadata": {},
   "outputs": [],
   "source": [
    "API_KEY = \"8396~HCkPe28X0ncaVAwEhtdVZPIJ5hperNzO8K3QT1cd4YqqjgjGHXJ7FLYEwzlhJpTf\"\n",
    "API_URL = \"https://canvas.wisc.edu\""
   ]
  },
  {
   "cell_type": "code",
   "execution_count": 4,
   "metadata": {},
   "outputs": [],
   "source": [
    "canvas = Canvas(API_URL, API_KEY)"
   ]
  },
  {
   "cell_type": "code",
   "execution_count": 5,
   "metadata": {},
   "outputs": [],
   "source": [
    "course = canvas.get_course(222326)"
   ]
  },
  {
   "cell_type": "code",
   "execution_count": 12,
   "metadata": {},
   "outputs": [
    {
     "data": {
      "text/plain": [
       "'Uri Andrews Development'"
      ]
     },
     "execution_count": 12,
     "metadata": {},
     "output_type": "execute_result"
    }
   ],
   "source": [
    "course.name"
   ]
  },
  {
   "cell_type": "code",
   "execution_count": 15,
   "metadata": {},
   "outputs": [
    {
     "name": "stdout",
     "output_type": "stream",
     "text": [
      "Midterm 1 (838497)\n"
     ]
    }
   ],
   "source": [
    "assignment = course.get_assignment(838497)\n",
    "\n",
    "print(assignment)\n"
   ]
  },
  {
   "cell_type": "code",
   "execution_count": 18,
   "metadata": {},
   "outputs": [],
   "source": [
    "listofstudents = assignment.get_gradeable_students()"
   ]
  },
  {
   "cell_type": "code",
   "execution_count": 29,
   "metadata": {},
   "outputs": [
    {
     "name": "stdout",
     "output_type": "stream",
     "text": [
      "Solly PARENTI 88217\n",
      "Soledad Benguria 99894\n",
      "Hyejin YEON 118562\n",
      "Test1 Sara.Nagreen1 184559\n",
      "Test2 Sara.Nagreen2 184560\n",
      "Test Student 320684\n"
     ]
    }
   ],
   "source": [
    "for student in listofstudents:\n",
    "    print(student, student.id)"
   ]
  },
  {
   "cell_type": "code",
   "execution_count": 30,
   "metadata": {},
   "outputs": [],
   "source": [
    "Sollysubmission = assignment.get_submission(88217)\n"
   ]
  },
  {
   "cell_type": "code",
   "execution_count": 35,
   "metadata": {},
   "outputs": [
    {
     "data": {
      "text/plain": [
       "Submission(_requester=<canvasapi.requester.Requester object at 0x10be9f2b0>, id=45486317, body=None, url=None, grade=0, score=0.0, submitted_at=None, assignment_id=838497, user_id=88217, submission_type=None, workflow_state=graded, grade_matches_current_submission=True, graded_at=2020-05-26T07:12:20Z, grader_id=89923, attempt=None, cached_due_date=None, excused=False, late_policy_status=None, points_deducted=None, grading_period_id=None, extra_attempts=None, posted_at=2020-05-26T07:12:19Z, late=False, missing=False, seconds_late=0, entered_grade=0, entered_score=0.0, preview_url=https://canvas.wisc.edu/courses/222326/assignments/838497/submissions/88217?preview=1&version=1, course_id=222326, submission_comments=[], all_submissions=[{'id': 45486317, 'body': None, 'url': None, 'grade': '0', 'score': 0.0, 'submitted_at': None, 'assignment_id': 838497, 'user_id': 88217, 'submission_type': None, 'workflow_state': 'graded', 'grade_matches_current_submission': True, 'graded_at': '2020-05-26T07:12:20Z', 'grader_id': 89923, 'attempt': None, 'cached_due_date': None, 'excused': False, 'late_policy_status': None, 'points_deducted': None, 'grading_period_id': None, 'extra_attempts': None, 'posted_at': '2020-05-26T07:12:19Z', 'late': False, 'missing': False, 'seconds_late': 0, 'entered_grade': '0', 'entered_score': 0.0, 'preview_url': 'https://canvas.wisc.edu/courses/222326/assignments/838497/submissions/88217?preview=1&version=1'}], graded_at_date=2020-05-26 07:12:20+00:00, posted_at_date=2020-05-26 07:12:19+00:00)"
      ]
     },
     "execution_count": 35,
     "metadata": {},
     "output_type": "execute_result"
    }
   ],
   "source": [
    "Sollysubmission.edit(submission={\"posted_grade\":\"0\"})"
   ]
  },
  {
   "cell_type": "code",
   "execution_count": null,
   "metadata": {},
   "outputs": [],
   "source": []
  }
 ],
 "metadata": {
  "kernelspec": {
   "display_name": "Python 3",
   "language": "python",
   "name": "python3"
  },
  "language_info": {
   "codemirror_mode": {
    "name": "ipython",
    "version": 3
   },
   "file_extension": ".py",
   "mimetype": "text/x-python",
   "name": "python",
   "nbconvert_exporter": "python",
   "pygments_lexer": "ipython3",
   "version": "3.8.2"
  }
 },
 "nbformat": 4,
 "nbformat_minor": 4
}
