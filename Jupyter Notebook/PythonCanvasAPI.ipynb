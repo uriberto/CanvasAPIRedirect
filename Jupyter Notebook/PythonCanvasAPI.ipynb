{
 "cells": [
  {
   "cell_type": "code",
   "execution_count": 36,
   "metadata": {},
   "outputs": [],
   "source": [
    "from canvasapi import Canvas"
   ]
  },
  {
   "cell_type": "code",
   "execution_count": 37,
   "metadata": {},
   "outputs": [],
   "source": [
    "API_KEY = \"8396~5rn6t3vpOTT0KlIlFypoMJYaMSL7AYPywTx9h25HSmwhCl5TnE2CS7irRIGFYjsX\"\n",
    "API_URL = \"https://canvas.wisc.edu\""
   ]
  },
  {
   "cell_type": "code",
   "execution_count": 38,
   "metadata": {},
   "outputs": [],
   "source": [
    "canvas = Canvas(API_URL, API_KEY)"
   ]
  },
  {
   "cell_type": "code",
   "execution_count": 39,
   "metadata": {},
   "outputs": [],
   "source": [
    "course = canvas.get_course(222326)"
   ]
  },
  {
   "cell_type": "code",
   "execution_count": 40,
   "metadata": {},
   "outputs": [
    {
     "data": {
      "text/plain": [
       "'Uri Andrews Development'"
      ]
     },
     "execution_count": 40,
     "metadata": {},
     "output_type": "execute_result"
    }
   ],
   "source": [
    "course.name"
   ]
  },
  {
   "cell_type": "code",
   "execution_count": 41,
   "metadata": {},
   "outputs": [
    {
     "name": "stdout",
     "output_type": "stream",
     "text": [
      "Midterm 1 (838497)\n"
     ]
    }
   ],
   "source": [
    "assignment = course.get_assignment(838497)\n",
    "\n",
    "print(assignment)\n"
   ]
  },
  {
   "cell_type": "code",
   "execution_count": 42,
   "metadata": {},
   "outputs": [],
   "source": [
    "listofstudents = assignment.get_gradeable_students()"
   ]
  },
  {
   "cell_type": "code",
   "execution_count": 43,
   "metadata": {},
   "outputs": [
    {
     "name": "stdout",
     "output_type": "stream",
     "text": [
      "Solly PARENTI 88217\n",
      "Soledad Benguria 99894\n",
      "Hyejin YEON 118562\n",
      "Test1 Sara.Nagreen1 184559\n",
      "Test2 Sara.Nagreen2 184560\n",
      "Test Student 320684\n"
     ]
    }
   ],
   "source": [
    "for student in listofstudents:\n",
    "    print(student, student.id)"
   ]
  },
  {
   "cell_type": "code",
   "execution_count": 44,
   "metadata": {},
   "outputs": [],
   "source": [
    "Sollysubmission = assignment.get_submission(88217)\n"
   ]
  },
  {
   "cell_type": "code",
   "execution_count": 46,
   "metadata": {},
   "outputs": [
    {
     "data": {
      "text/plain": [
       "Submission(_requester=<canvasapi.requester.Requester object at 0x10cbabd60>, id=45486317, body=None, url=None, grade=2, score=2.0, submitted_at=None, assignment_id=838497, user_id=88217, submission_type=None, workflow_state=graded, grade_matches_current_submission=True, graded_at=2020-05-26T20:13:39Z, graded_at_date=2020-05-26 20:13:39+00:00, grader_id=89923, attempt=None, cached_due_date=None, excused=False, late_policy_status=None, points_deducted=None, grading_period_id=None, extra_attempts=None, posted_at=2020-05-26T07:12:19Z, posted_at_date=2020-05-26 07:12:19+00:00, late=False, missing=False, seconds_late=0, entered_grade=2, entered_score=2.0, preview_url=https://canvas.wisc.edu/courses/222326/assignments/838497/submissions/88217?preview=1&version=5, course_id=222326, submission_comments=[], all_submissions=[{'id': 45486317, 'body': None, 'url': None, 'grade': '2', 'score': 2.0, 'submitted_at': None, 'assignment_id': 838497, 'user_id': 88217, 'submission_type': None, 'workflow_state': 'graded', 'grade_matches_current_submission': True, 'graded_at': '2020-05-26T20:13:39Z', 'grader_id': 89923, 'attempt': None, 'cached_due_date': None, 'excused': False, 'late_policy_status': None, 'points_deducted': None, 'grading_period_id': None, 'extra_attempts': None, 'posted_at': '2020-05-26T07:12:19Z', 'late': False, 'missing': False, 'seconds_late': 0, 'entered_grade': '2', 'entered_score': 2.0, 'preview_url': 'https://canvas.wisc.edu/courses/222326/assignments/838497/submissions/88217?preview=1&version=5'}])"
      ]
     },
     "execution_count": 46,
     "metadata": {},
     "output_type": "execute_result"
    }
   ],
   "source": [
    "Sollysubmission.edit(submission={\"posted_grade\":\"2\"})"
   ]
  },
  {
   "cell_type": "code",
   "execution_count": null,
   "metadata": {},
   "outputs": [],
   "source": []
  }
 ],
 "metadata": {
  "kernelspec": {
   "display_name": "Python 3",
   "language": "python",
   "name": "python3"
  },
  "language_info": {
   "codemirror_mode": {
    "name": "ipython",
    "version": 3
   },
   "file_extension": ".py",
   "mimetype": "text/x-python",
   "name": "python",
   "nbconvert_exporter": "python",
   "pygments_lexer": "ipython3",
   "version": "3.8.2"
  }
 },
 "nbformat": 4,
 "nbformat_minor": 4
}
